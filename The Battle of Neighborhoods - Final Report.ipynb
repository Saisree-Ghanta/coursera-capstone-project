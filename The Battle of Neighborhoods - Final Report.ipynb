{
 "cells": [
  {
   "cell_type": "markdown",
   "metadata": {},
   "source": [
    "<h1>Coursera Capstone Project</h1>"
   ]
  },
  {
   "cell_type": "markdown",
   "metadata": {},
   "source": [
    "<h2>The Battle of Neighborhoods - Final Report</h2>"
   ]
  },
  {
   "cell_type": "markdown",
   "metadata": {},
   "source": [
    "<h3> This Link is only for report section code section is provided in the above Notebook </h3>\n",
    "<h1>coursera capstone report</h1>\n",
    "<h2>Content</h2>\n",
    "<h3>1.Introduction Section :</h3>\n",
    "\n",
    "<p>1.1 Discussion of the \"backgroung situation\" leading to the problem at hand</p>\n",
    "\n",
    "<p>1.2 Business Problem</p>\n",
    "\n",
    "<h3>2.Data Section:</h3>\n",
    "\n",
    "<p>2.1 Data of Current Situation</p>\n",
    "\n",
    "<p>2.2 Data required to resolve the problem</p>\n",
    "\n",
    "<p>2.3 Data sources </p>\n",
    "\n",
    "<h3>3.Methodology section :</h3>\n",
    "\n",
    "<p>3.1 Process steps and strategy to resolve the problem</p>\n",
    "\n",
    "<p>3.2 Data Science Methods, machine learing, mapping tools and exploratory data analysis.</p>\n",
    "\n",
    "<h3>4.Results section</h3>\n",
    "\n",
    "<p>4.1 Discussion of the results and how they help to take a decision.</p>\n",
    "\n",
    "<h3>5.Discussion section</h3>\n",
    "<p>5.1 discussion on observations</p>\n",
    "<h3>6.Conclusion</h3>\n",
    "<p>6.1 Conclusion of the report </p>\n"
   ]
  },
  {
   "cell_type": "markdown",
   "metadata": {},
   "source": [
    "<h2>Introduction section :</h2>"
   ]
  },
  {
   "cell_type": "markdown",
   "metadata": {},
   "source": [
    "\n",
    "<p>1.1 I am a tourist who visited NewYork city for the first time and i want to enjoy a lot here so to make my journey better I want to visit the places which makes me feel happy, restaurants, cafes, food shops with delicius food and hotel rooms which meet my budget and needs so that I will feel happy and comfortable and the hotels must be safe for living</p> \n",
    "\n",
    "<p>For all the things I have mentioned above to happen we need to compare all those things and for this thing to happen Four Square API will help a lot<p>\n",
    "\n",
    "\n",
    "<p>1.2 Bussiness Problem:</p>\n",
    "<p>The challenge is to find a suitable hotels which are with good facilities and with restaurants with delicius food The data required to resolve this challenge is described in the following section </p>"
   ]
  },
  {
   "cell_type": "markdown",
   "metadata": {},
   "source": [
    "<h2>Data Section</h2>"
   ]
  },
  {
   "cell_type": "markdown",
   "metadata": {},
   "source": [
    "<p>1.1 The following data is required to solve the above issue</p>\n",
    "<p>A list of apartment for rent with additional information, such as price, address, area, No of beds, etc</p>\n",
    "\n",
    "<p>A list of restaurents with information of reviews,ratingsetc</p>\n",
    "\n",
    "<p>A list of places which every one who visit Newyork city must visit</p>"
   ]
  },
  {
   "cell_type": "markdown",
   "metadata": {},
   "source": [
    "<br>"
   ]
  },
  {
   "cell_type": "markdown",
   "metadata": {},
   "source": [
    "<p>1.2 This is how the above data is used to solve the problem :<p>\n",
    "<p>Use Foursquare and geopy data to map the location of rental places, in some form, linked to the locations the tourist visits.</p>\n",
    "\n",
    "<p>create a map that depicts, for instance, the average rental price per square ft, around a radious of 2.0 mile arround the area</p>\n",
    "\n",
    "<p>similarly for restaurants</p>"
   ]
  },
  {
   "cell_type": "markdown",
   "metadata": {},
   "source": [
    "<p>1.3 Data Resourses </p>"
   ]
  },
  {
   "cell_type": "markdown",
   "metadata": {},
   "source": [
    "<p>Foursquare data</p>\n",
    "<p>Newyork tourist locations data</p>"
   ]
  },
  {
   "cell_type": "markdown",
   "metadata": {},
   "source": [
    "<br>"
   ]
  },
  {
   "cell_type": "markdown",
   "metadata": {},
   "source": [
    "<h3>Methodology Section</h3>"
   ]
  },
  {
   "cell_type": "markdown",
   "metadata": {},
   "source": [
    "<p>This section represents the main component of the report where the data is gathered, prepared for analysis. The tools described are used in the Notebook</p>"
   ]
  },
  {
   "cell_type": "markdown",
   "metadata": {},
   "source": [
    "<p>Uing the preprocessing tools for our data</p>"
   ]
  },
  {
   "cell_type": "markdown",
   "metadata": {},
   "source": [
    "<p>Using tourist places in Newyork dataset and listing the places in Newyork</p>\n",
    "<p>Uing the Foursquare data mapping the places near by with rents</p>"
   ]
  },
  {
   "cell_type": "markdown",
   "metadata": {},
   "source": [
    "<br>"
   ]
  },
  {
   "cell_type": "markdown",
   "metadata": {},
   "source": [
    "<h3>Reults Section </h3>\n",
    "<p>Results appear for the locations with rent</p>\n",
    "<p>and also with the list of tourist places in Newyork</p>"
   ]
  },
  {
   "cell_type": "markdown",
   "metadata": {},
   "source": [
    "<br>"
   ]
  },
  {
   "cell_type": "markdown",
   "metadata": {},
   "source": [
    "<h3>Conclusion</h3>\n",
    "<p>Now Finally we got the list of places with rent and the list of tourist places in NewYork</p>"
   ]
  }
 ],
 "metadata": {
  "kernelspec": {
   "display_name": "Python 3",
   "language": "python",
   "name": "python3"
  },
  "language_info": {
   "codemirror_mode": {
    "name": "ipython",
    "version": 3
   },
   "file_extension": ".py",
   "mimetype": "text/x-python",
   "name": "python",
   "nbconvert_exporter": "python",
   "pygments_lexer": "ipython3",
   "version": "3.7.3"
  }
 },
 "nbformat": 4,
 "nbformat_minor": 2
}
