{
 "cells": [
  {
   "cell_type": "markdown",
   "metadata": {},
   "source": [
    "<h1>Coursera Capstone Project</h1>"
   ]
  },
  {
   "cell_type": "markdown",
   "metadata": {},
   "source": [
    "<h3>The Battle of Neighborhoods (Week 1)</h3>"
   ]
  },
  {
   "cell_type": "markdown",
   "metadata": {},
   "source": [
    "<h3>I have included both Introduction/Bussiness problem and the data section in the same notebook</h3>"
   ]
  },
  {
   "cell_type": "markdown",
   "metadata": {},
   "source": [
    "<br>"
   ]
  },
  {
   "cell_type": "markdown",
   "metadata": {},
   "source": [
    "<h2 color=\"blue\">INTRODUCTION Section</h2>"
   ]
  },
  {
   "cell_type": "markdown",
   "metadata": {},
   "source": [
    "<h3 color=red>I am a tourist who visited NewYork city for the first time and i want to enjoy a lot here so to make my  journey better I want to visit  the places  which makes me feel happy, restaurants, cafes, food shops with delicius food and hotel rooms which meet my budget and needs so that I will feel happy and comfortable and the hotels must be safe for living </h3>"
   ]
  },
  {
   "cell_type": "markdown",
   "metadata": {},
   "source": [
    "<h3>For all the things I have mentioned above to happen we need to compare all those things and for this thing to happen Four Square API will help a lot</h3>"
   ]
  },
  {
   "cell_type": "markdown",
   "metadata": {},
   "source": [
    "<br>"
   ]
  },
  {
   "cell_type": "markdown",
   "metadata": {},
   "source": [
    "<h2>Bussiness Problem</h2>"
   ]
  },
  {
   "cell_type": "markdown",
   "metadata": {},
   "source": [
    "<h3>The challenge is to find a suitable hotels which are with good facilities  and with restaurants with delicius food The data required to resolve this challenge is described in the following section 2</h3>"
   ]
  },
  {
   "cell_type": "markdown",
   "metadata": {},
   "source": [
    "<br>"
   ]
  },
  {
   "cell_type": "markdown",
   "metadata": {},
   "source": [
    "<h2>Data Section</h2>"
   ]
  },
  {
   "cell_type": "markdown",
   "metadata": {},
   "source": [
    "<br>"
   ]
  },
  {
   "cell_type": "markdown",
   "metadata": {},
   "source": [
    "<h3>The following data is required to solve the above issue</h3>"
   ]
  },
  {
   "cell_type": "markdown",
   "metadata": {},
   "source": [
    "<p> A list of apartment for rent with additional information, such as price, address, area, No of beds, etc</p>\n",
    "<p>A list of restaurents with information of reviews,ratingsetc</p>\n",
    "<p>A list of places which every one who visit Newyork city must visit</p>\n",
    "\n",
    "    "
   ]
  },
  {
   "cell_type": "markdown",
   "metadata": {},
   "source": [
    "<br>"
   ]
  },
  {
   "cell_type": "markdown",
   "metadata": {},
   "source": [
    "<h2>How the above data is used to solve the problem :</h2>"
   ]
  },
  {
   "cell_type": "markdown",
   "metadata": {},
   "source": [
    "<p>Use Foursquare and geopy data to map the location of rental places, in some form, linked to the locations the tourist visits.</p>\n",
    "<p>create a map that depicts, for instance, the average rental price per square ft, around a radious of 2.0 mile arround the area</p>\n",
    "<p>similarlyb for restauranta</p>\n",
    "<p>Data will also be searched from the data sources available to kbow the best places to visit</p>\n"
   ]
  }
 ],
 "metadata": {
  "kernelspec": {
   "display_name": "Python 3",
   "language": "python",
   "name": "python3"
  },
  "language_info": {
   "codemirror_mode": {
    "name": "ipython",
    "version": 3
   },
   "file_extension": ".py",
   "mimetype": "text/x-python",
   "name": "python",
   "nbconvert_exporter": "python",
   "pygments_lexer": "ipython3",
   "version": "3.7.3"
  }
 },
 "nbformat": 4,
 "nbformat_minor": 2
}
